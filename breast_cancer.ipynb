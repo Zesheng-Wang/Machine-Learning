{
 "cells": [
  {
   "cell_type": "code",
   "execution_count": 35,
   "id": "3a6d6a73",
   "metadata": {},
   "outputs": [
    {
     "name": "stdout",
     "output_type": "stream",
     "text": [
      "dict_keys(['data', 'target', 'frame', 'target_names', 'DESCR', 'feature_names', 'filename'])\n",
      "(569,)\n",
      "['malignant' 'benign']\n",
      "0.9595782073813708\n"
     ]
    }
   ],
   "source": [
    "import pandas as pd\n",
    "from sklearn.datasets import load_breast_cancer\n",
    "from sklearn.linear_model import LogisticRegression \n",
    "\n",
    "cancer_data = load_breast_cancer()\n",
    "print(cancer_data.keys())\n",
    "# print(cancer_data['DESCR'])\n",
    "# cancer_data['data'].shape\n",
    "df = pd.DataFrame(cancer_data['data'], columns=cancer_data['feature_names'])\n",
    "# print(df.head())\n",
    "print(cancer_data['target'].shape)\n",
    "print(cancer_data['target_names'])\n",
    "df['target'] = cancer_data['target']\n",
    "X = df[cancer_data.feature_names].values\n",
    "y = df['target'].values\n",
    "model = LogisticRegression(solver='liblinear')\n",
    "model.fit(X, y) \n",
    "model.predict([X[0]])\n",
    "print(model.score(X, y))"
   ]
  },
  {
   "cell_type": "code",
   "execution_count": null,
   "id": "2186efa7",
   "metadata": {},
   "outputs": [],
   "source": []
  },
  {
   "cell_type": "code",
   "execution_count": null,
   "id": "7e04b6a0",
   "metadata": {},
   "outputs": [],
   "source": []
  }
 ],
 "metadata": {
  "kernelspec": {
   "display_name": "Python 3 (ipykernel)",
   "language": "python",
   "name": "python3"
  },
  "language_info": {
   "codemirror_mode": {
    "name": "ipython",
    "version": 3
   },
   "file_extension": ".py",
   "mimetype": "text/x-python",
   "name": "python",
   "nbconvert_exporter": "python",
   "pygments_lexer": "ipython3",
   "version": "3.9.7"
  }
 },
 "nbformat": 4,
 "nbformat_minor": 5
}
